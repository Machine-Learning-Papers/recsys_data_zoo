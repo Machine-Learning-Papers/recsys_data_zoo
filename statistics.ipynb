{
 "metadata": {
  "language_info": {
   "codemirror_mode": {
    "name": "ipython",
    "version": 3
   },
   "file_extension": ".py",
   "mimetype": "text/x-python",
   "name": "python",
   "nbconvert_exporter": "python",
   "pygments_lexer": "ipython3",
   "version": "3.6.10-final"
  },
  "orig_nbformat": 2,
  "kernelspec": {
   "name": "python361064bitstarrecconda0e00ec86db60450f8d3bb8105978b385",
   "display_name": "Python 3.6.10 64-bit ('starrec': conda)"
  }
 },
 "nbformat": 4,
 "nbformat_minor": 2,
 "cells": [
  {
   "cell_type": "code",
   "execution_count": 1,
   "metadata": {},
   "outputs": [],
   "source": [
    "import pandas as pd\n",
    "import numpy as np\n",
    "from preprocess import k_user_interactions, k_core\n",
    "from utils import load_raw_df, df_to_sparse, gini"
   ]
  },
  {
   "cell_type": "code",
   "execution_count": 2,
   "metadata": {},
   "outputs": [],
   "source": [
    "def get_stat_dict(rating_matrix):\n",
    "    NUM_USERS, NUM_ITEMS = rating_matrix.shape\n",
    "    NUM_RATINGS = rating_matrix.nnz\n",
    "    NUM_RATINGS_PER_USER = NUM_RATINGS / NUM_USERS\n",
    "\n",
    "    DENSITY = NUM_RATINGS / (NUM_USERS * NUM_ITEMS)\n",
    "    SPARSITY = 1 - DENSITY\n",
    "    SHAPE = NUM_USERS / NUM_ITEMS\n",
    "    \n",
    "    user_popularity = rating_matrix.sum(1).A.reshape(-1)\n",
    "    item_popularity = rating_matrix.sum(0).A.reshape(-1)\n",
    "\n",
    "    sorted_user_popularity = np.sort(user_popularity)\n",
    "    sorted_item_popularity = np.sort(item_popularity)\n",
    "\n",
    "    GINI_USER = gini(sorted_user_popularity)\n",
    "    GINI_ITEM = gini(sorted_item_popularity)\n",
    "\n",
    "    CONCENTRATION = sum(sorted_item_popularity[-int(len(item_popularity) * 0.05):]) / NUM_RATINGS\n",
    "\n",
    "    ret = {\n",
    "        '# Users': NUM_USERS,\n",
    "        '# Items': NUM_ITEMS,\n",
    "        '# Ratings': NUM_RATINGS,\n",
    "        '# Ratings per user': NUM_RATINGS_PER_USER,\n",
    "        'Sparsity': SPARSITY,\n",
    "        'Shape': SHAPE,\n",
    "        'Gini User': GINI_USER,\n",
    "        'Gini Item': GINI_ITEM,\n",
    "        'Concen.': CONCENTRATION\n",
    "    }\n",
    "    return ret\n"
   ]
  },
  {
   "cell_type": "code",
   "execution_count": 3,
   "metadata": {},
   "outputs": [],
   "source": [
    "data_to_file = {\n",
    "    'ml-1m': 'data/ml-1m/ratings.dat',\n",
    "    'ml-10m': 'data/ml-10m/ratings.dat',\n",
    "    'ml-20m': 'data/ml-20m/ratings.csv',\n",
    "    'ml-25m': 'data/ml-25m/ratings.csv',\n",
    "    'amusic': 'data/amusic/Digital_Music_5.json',\n",
    "    'epinions': 'data/epinions/ratings_data.txt',\n",
    "    'yelp2015': 'data/yelp2015/yelp.rating',\n",
    "    'yelp2018': 'data/yelp2018/yelp.csv',\n",
    "    'gowalla': 'data/gowalla/loc-gowalla_totalCheckins.txt',\n",
    "    'citeulike': 'data/citeulike/users.dat',\n",
    "    'pinterest': 'data/pinterest/pinterest.csv'\n",
    "}\n",
    "data_to_sep = {\n",
    "    'ml-1m': '::',\n",
    "    'ml-10m': '::',\n",
    "    'ml-20m': ',',\n",
    "    'ml-25m': ',',\n",
    "    'amusic': ',',\n",
    "    'epinions': ' ',\n",
    "    'yelp2015': '\\t',\n",
    "    'yelp2018': ',',\n",
    "    'gowalla': '\\t',\n",
    "    'citeulike': ' ',\n",
    "    'pinterest': ','\n",
    "}\n"
   ]
  },
  {
   "cell_type": "code",
   "execution_count": 4,
   "metadata": {},
   "outputs": [],
   "source": [
    "dataset_list = list(data_to_file.keys())"
   ]
  },
  {
   "cell_type": "code",
   "execution_count": 5,
   "metadata": {},
   "outputs": [],
   "source": [
    "raw_df_dict = {d: None for d in data_to_file}"
   ]
  },
  {
   "cell_type": "markdown",
   "metadata": {},
   "source": [
    "# Original"
   ]
  },
  {
   "cell_type": "code",
   "execution_count": 6,
   "metadata": {
    "tags": []
   },
   "outputs": [
    {
     "output_type": "stream",
     "name": "stdout",
     "text": "ml-1m\ninitial user, item: 6040 3706\nafter filter : 6040 3706\nml-10m\ninitial user, item: 69878 10677\nafter filter : 69878 10677\nml-20m\ninitial user, item: 138493 26744\nafter filter : 138493 26744\nml-25m\ninitial user, item: 162541 59047\nafter filter : 162541 59047\n  0%|          | 0/169781 [00:00<?, ?it/s]amusic\n100%|██████████| 169781/169781 [00:02<00:00, 83557.14it/s]\ninitial user, item: 16566 11797\nafter filter : 16566 11797\nepinions\ninitial user, item: 40163 139738\nafter filter : 40163 139738\nyelp2015\ninitial user, item: 25677 25815\nafter filter : 25677 25815\nyelp2018\ninitial user, item: 45919 45538\nafter filter : 45919 45538\ngowalla\ninitial user, item: 107092 1280969\nafter filter : 107092 1280969\nciteulike\ninitial user, item: 5551 16980\nafter filter : 5551 16980\npinterest\ninitial user, item: 55187 9916\nafter filter : 55187 9916\nCPU times: user 8min 15s, sys: 52.7 s, total: 9min 8s\nWall time: 9min 7s\n"
    }
   ],
   "source": [
    "%%time\n",
    "stat_df = pd.DataFrame(\n",
    "    columns=['dataset', '# Users', '# Items', '# Ratings', '# Ratings per user', 'Sparsity', 'Shape', 'Gini User', 'Gini Item', 'Concen.'])\n",
    "for dataset in dataset_list:\n",
    "    print(dataset)\n",
    "    if raw_df_dict[dataset] is None:\n",
    "        raw_df = load_raw_df(dataset, data_to_file, data_to_sep)\n",
    "        raw_df_dict[dataset] = raw_df\n",
    "    else:\n",
    "        raw_df = raw_df_dict[dataset]\n",
    "    \n",
    "    raw_df = k_user_interactions(raw_df, 1)\n",
    "    \n",
    "    num_unique_users = len(pd.unique(raw_df.user))\n",
    "    num_unique_items = len(pd.unique(raw_df.item))\n",
    "    \n",
    "    shape = (num_unique_users, num_unique_items)\n",
    "    rating_matrix = df_to_sparse(raw_df, shape)\n",
    "\n",
    "    stat_dict = get_stat_dict(rating_matrix)\n",
    "    stat_dict['dataset'] = dataset\n",
    "    stat_df = stat_df.append(stat_dict, ignore_index=True)"
   ]
  },
  {
   "cell_type": "code",
   "execution_count": 7,
   "metadata": {},
   "outputs": [
    {
     "output_type": "execute_result",
     "data": {
      "text/plain": "      dataset # Users  # Items # Ratings  # Ratings per user  Sparsity  \\\n0       ml-1m    6040     3706   1000209          165.597517  0.955316   \n1      ml-10m   69878    10677  10000054          143.107330  0.986597   \n2      ml-20m  138493    26744  20000263          144.413530  0.994600   \n3      ml-25m  162541    59047  25000095          153.807932  0.997395   \n4      amusic   16566    11797    145292            8.770494  0.999257   \n5    epinions   40163   139738    664823           16.553121  0.999882   \n6    yelp2015   25677    25815    696865           27.139658  0.998949   \n7    yelp2018   45919    45538   1183609           25.776019  0.999434   \n8     gowalla  107092  1280969   3981334           37.176764  0.999971   \n9   citeulike    5551    16980    204986           36.927761  0.997825   \n10  pinterest   55187     9916   1463580           26.520376  0.997325   \n\n       Shape  Gini User  Gini Item   Concen.  \n0   1.629790   0.528624   0.633562  0.282754  \n1   6.544722   0.570700   0.805249  0.516455  \n2   5.178470   0.580701   0.902942  0.714144  \n3   2.752739   0.589469   0.941897  0.844548  \n4   1.404255   0.375600   0.431506  0.247570  \n5   0.287416   0.676261   0.693562  0.533856  \n6   0.994654   0.450890   0.603678  0.351168  \n7   1.008367   0.426837   0.581005  0.345775  \n8   0.083602   0.662713   0.539023  0.362772  \n9   0.326914   0.470634   0.369647  0.209829  \n10  5.565450   0.140110   0.451105  0.189882  ",
      "text/html": "<div>\n<style scoped>\n    .dataframe tbody tr th:only-of-type {\n        vertical-align: middle;\n    }\n\n    .dataframe tbody tr th {\n        vertical-align: top;\n    }\n\n    .dataframe thead th {\n        text-align: right;\n    }\n</style>\n<table border=\"1\" class=\"dataframe\">\n  <thead>\n    <tr style=\"text-align: right;\">\n      <th></th>\n      <th>dataset</th>\n      <th># Users</th>\n      <th># Items</th>\n      <th># Ratings</th>\n      <th># Ratings per user</th>\n      <th>Sparsity</th>\n      <th>Shape</th>\n      <th>Gini User</th>\n      <th>Gini Item</th>\n      <th>Concen.</th>\n    </tr>\n  </thead>\n  <tbody>\n    <tr>\n      <th>0</th>\n      <td>ml-1m</td>\n      <td>6040</td>\n      <td>3706</td>\n      <td>1000209</td>\n      <td>165.597517</td>\n      <td>0.955316</td>\n      <td>1.629790</td>\n      <td>0.528624</td>\n      <td>0.633562</td>\n      <td>0.282754</td>\n    </tr>\n    <tr>\n      <th>1</th>\n      <td>ml-10m</td>\n      <td>69878</td>\n      <td>10677</td>\n      <td>10000054</td>\n      <td>143.107330</td>\n      <td>0.986597</td>\n      <td>6.544722</td>\n      <td>0.570700</td>\n      <td>0.805249</td>\n      <td>0.516455</td>\n    </tr>\n    <tr>\n      <th>2</th>\n      <td>ml-20m</td>\n      <td>138493</td>\n      <td>26744</td>\n      <td>20000263</td>\n      <td>144.413530</td>\n      <td>0.994600</td>\n      <td>5.178470</td>\n      <td>0.580701</td>\n      <td>0.902942</td>\n      <td>0.714144</td>\n    </tr>\n    <tr>\n      <th>3</th>\n      <td>ml-25m</td>\n      <td>162541</td>\n      <td>59047</td>\n      <td>25000095</td>\n      <td>153.807932</td>\n      <td>0.997395</td>\n      <td>2.752739</td>\n      <td>0.589469</td>\n      <td>0.941897</td>\n      <td>0.844548</td>\n    </tr>\n    <tr>\n      <th>4</th>\n      <td>amusic</td>\n      <td>16566</td>\n      <td>11797</td>\n      <td>145292</td>\n      <td>8.770494</td>\n      <td>0.999257</td>\n      <td>1.404255</td>\n      <td>0.375600</td>\n      <td>0.431506</td>\n      <td>0.247570</td>\n    </tr>\n    <tr>\n      <th>5</th>\n      <td>epinions</td>\n      <td>40163</td>\n      <td>139738</td>\n      <td>664823</td>\n      <td>16.553121</td>\n      <td>0.999882</td>\n      <td>0.287416</td>\n      <td>0.676261</td>\n      <td>0.693562</td>\n      <td>0.533856</td>\n    </tr>\n    <tr>\n      <th>6</th>\n      <td>yelp2015</td>\n      <td>25677</td>\n      <td>25815</td>\n      <td>696865</td>\n      <td>27.139658</td>\n      <td>0.998949</td>\n      <td>0.994654</td>\n      <td>0.450890</td>\n      <td>0.603678</td>\n      <td>0.351168</td>\n    </tr>\n    <tr>\n      <th>7</th>\n      <td>yelp2018</td>\n      <td>45919</td>\n      <td>45538</td>\n      <td>1183609</td>\n      <td>25.776019</td>\n      <td>0.999434</td>\n      <td>1.008367</td>\n      <td>0.426837</td>\n      <td>0.581005</td>\n      <td>0.345775</td>\n    </tr>\n    <tr>\n      <th>8</th>\n      <td>gowalla</td>\n      <td>107092</td>\n      <td>1280969</td>\n      <td>3981334</td>\n      <td>37.176764</td>\n      <td>0.999971</td>\n      <td>0.083602</td>\n      <td>0.662713</td>\n      <td>0.539023</td>\n      <td>0.362772</td>\n    </tr>\n    <tr>\n      <th>9</th>\n      <td>citeulike</td>\n      <td>5551</td>\n      <td>16980</td>\n      <td>204986</td>\n      <td>36.927761</td>\n      <td>0.997825</td>\n      <td>0.326914</td>\n      <td>0.470634</td>\n      <td>0.369647</td>\n      <td>0.209829</td>\n    </tr>\n    <tr>\n      <th>10</th>\n      <td>pinterest</td>\n      <td>55187</td>\n      <td>9916</td>\n      <td>1463580</td>\n      <td>26.520376</td>\n      <td>0.997325</td>\n      <td>5.565450</td>\n      <td>0.140110</td>\n      <td>0.451105</td>\n      <td>0.189882</td>\n    </tr>\n  </tbody>\n</table>\n</div>"
     },
     "metadata": {},
     "execution_count": 7
    }
   ],
   "source": [
    "stat_df"
   ]
  },
  {
   "cell_type": "markdown",
   "metadata": {},
   "source": [
    "# 10 user interactions"
   ]
  },
  {
   "cell_type": "code",
   "execution_count": 8,
   "metadata": {
    "tags": []
   },
   "outputs": [
    {
     "output_type": "stream",
     "name": "stdout",
     "text": "ml-1m\ninitial user, item: 6040 3706\nafter filter : 6040 3706\nml-10m\ninitial user, item: 69878 10677\nafter filter : 69878 10677\nml-20m\ninitial user, item: 138493 26744\nafter filter : 138493 26744\nml-25m\ninitial user, item: 162541 59047\nafter filter : 162541 59047\namusic\ninitial user, item: 16566 11797\nafter filter : 3951 11483\nepinions\ninitial user, item: 40163 139738\nafter filter : 15786 132964\nyelp2015\ninitial user, item: 25677 25815\nafter filter : 24930 25799\nyelp2018\ninitial user, item: 45919 45538\nafter filter : 45842 45538\ngowalla\ninitial user, item: 107092 1280969\nafter filter : 68709 1247158\nciteulike\ninitial user, item: 5551 16980\nafter filter : 5551 16980\npinterest\ninitial user, item: 55187 9916\nafter filter : 55187 9916\nCPU times: user 3min 14s, sys: 25.6 s, total: 3min 39s\nWall time: 3min 39s\n"
    }
   ],
   "source": [
    "%%time\n",
    "stat_df = pd.DataFrame(\n",
    "    columns=['dataset', '# Users', '# Items', '# Ratings', '# Ratings per user', 'Sparsity', 'Shape', 'Gini User', 'Gini Item', 'Concen.'])\n",
    "for dataset in dataset_list:\n",
    "    print(dataset)\n",
    "    if raw_df_dict[dataset] is None:\n",
    "        raw_df = load_raw_df(dataset, data_to_file, data_to_sep)\n",
    "        raw_df_dict[dataset] = raw_df\n",
    "    else:\n",
    "        raw_df = raw_df_dict[dataset]\n",
    "    \n",
    "    raw_df = k_user_interactions(raw_df, 10)\n",
    "    \n",
    "    num_unique_users = len(pd.unique(raw_df.user))\n",
    "    num_unique_items = len(pd.unique(raw_df.item))\n",
    "    \n",
    "    shape = (num_unique_users, num_unique_items)\n",
    "    rating_matrix = df_to_sparse(raw_df, shape)\n",
    "\n",
    "    stat_dict = get_stat_dict(rating_matrix)\n",
    "    stat_dict['dataset'] = dataset\n",
    "    stat_df = stat_df.append(stat_dict, ignore_index=True)"
   ]
  },
  {
   "cell_type": "code",
   "execution_count": 9,
   "metadata": {},
   "outputs": [
    {
     "output_type": "execute_result",
     "data": {
      "text/plain": "      dataset # Users  # Items # Ratings  # Ratings per user  Sparsity  \\\n0       ml-1m    6040     3706   1000209          165.597517  0.955316   \n1      ml-10m   69878    10677  10000054          143.107330  0.986597   \n2      ml-20m  138493    26744  20000263          144.413530  0.994600   \n3      ml-25m  162541    59047  25000095          153.807932  0.997395   \n4      amusic    3951    11483     75044           18.993672  0.998346   \n5    epinions   15786   132964    580752           36.789054  0.999723   \n6    yelp2015   24930    25799    690381           27.692780  0.998927   \n7    yelp2018   45842    45538   1182917           25.804219  0.999433   \n8     gowalla   68709  1247158   3831386           55.762506  0.999955   \n9   citeulike    5551    16980    204986           36.927761  0.997825   \n10  pinterest   55187     9916   1463580           26.520376  0.997325   \n\n       Shape  Gini User  Gini Item   Concen.  \n0   1.629790   0.528624   0.633562  0.282754  \n1   6.544722   0.570700   0.805249  0.516455  \n2   5.178470   0.580701   0.902942  0.714144  \n3   2.752739   0.589469   0.941897  0.844548  \n4   0.344074   0.306667   0.450453  0.240486  \n5   0.118724   0.481602   0.676767  0.519681  \n6   0.966317   0.448181   0.603781  0.351037  \n7   1.006676   0.426709   0.581081  0.345821  \n8   0.055092   0.545790   0.536477  0.361238  \n9   0.326914   0.470634   0.369647  0.209829  \n10  5.565450   0.140110   0.451105  0.189882  ",
      "text/html": "<div>\n<style scoped>\n    .dataframe tbody tr th:only-of-type {\n        vertical-align: middle;\n    }\n\n    .dataframe tbody tr th {\n        vertical-align: top;\n    }\n\n    .dataframe thead th {\n        text-align: right;\n    }\n</style>\n<table border=\"1\" class=\"dataframe\">\n  <thead>\n    <tr style=\"text-align: right;\">\n      <th></th>\n      <th>dataset</th>\n      <th># Users</th>\n      <th># Items</th>\n      <th># Ratings</th>\n      <th># Ratings per user</th>\n      <th>Sparsity</th>\n      <th>Shape</th>\n      <th>Gini User</th>\n      <th>Gini Item</th>\n      <th>Concen.</th>\n    </tr>\n  </thead>\n  <tbody>\n    <tr>\n      <th>0</th>\n      <td>ml-1m</td>\n      <td>6040</td>\n      <td>3706</td>\n      <td>1000209</td>\n      <td>165.597517</td>\n      <td>0.955316</td>\n      <td>1.629790</td>\n      <td>0.528624</td>\n      <td>0.633562</td>\n      <td>0.282754</td>\n    </tr>\n    <tr>\n      <th>1</th>\n      <td>ml-10m</td>\n      <td>69878</td>\n      <td>10677</td>\n      <td>10000054</td>\n      <td>143.107330</td>\n      <td>0.986597</td>\n      <td>6.544722</td>\n      <td>0.570700</td>\n      <td>0.805249</td>\n      <td>0.516455</td>\n    </tr>\n    <tr>\n      <th>2</th>\n      <td>ml-20m</td>\n      <td>138493</td>\n      <td>26744</td>\n      <td>20000263</td>\n      <td>144.413530</td>\n      <td>0.994600</td>\n      <td>5.178470</td>\n      <td>0.580701</td>\n      <td>0.902942</td>\n      <td>0.714144</td>\n    </tr>\n    <tr>\n      <th>3</th>\n      <td>ml-25m</td>\n      <td>162541</td>\n      <td>59047</td>\n      <td>25000095</td>\n      <td>153.807932</td>\n      <td>0.997395</td>\n      <td>2.752739</td>\n      <td>0.589469</td>\n      <td>0.941897</td>\n      <td>0.844548</td>\n    </tr>\n    <tr>\n      <th>4</th>\n      <td>amusic</td>\n      <td>3951</td>\n      <td>11483</td>\n      <td>75044</td>\n      <td>18.993672</td>\n      <td>0.998346</td>\n      <td>0.344074</td>\n      <td>0.306667</td>\n      <td>0.450453</td>\n      <td>0.240486</td>\n    </tr>\n    <tr>\n      <th>5</th>\n      <td>epinions</td>\n      <td>15786</td>\n      <td>132964</td>\n      <td>580752</td>\n      <td>36.789054</td>\n      <td>0.999723</td>\n      <td>0.118724</td>\n      <td>0.481602</td>\n      <td>0.676767</td>\n      <td>0.519681</td>\n    </tr>\n    <tr>\n      <th>6</th>\n      <td>yelp2015</td>\n      <td>24930</td>\n      <td>25799</td>\n      <td>690381</td>\n      <td>27.692780</td>\n      <td>0.998927</td>\n      <td>0.966317</td>\n      <td>0.448181</td>\n      <td>0.603781</td>\n      <td>0.351037</td>\n    </tr>\n    <tr>\n      <th>7</th>\n      <td>yelp2018</td>\n      <td>45842</td>\n      <td>45538</td>\n      <td>1182917</td>\n      <td>25.804219</td>\n      <td>0.999433</td>\n      <td>1.006676</td>\n      <td>0.426709</td>\n      <td>0.581081</td>\n      <td>0.345821</td>\n    </tr>\n    <tr>\n      <th>8</th>\n      <td>gowalla</td>\n      <td>68709</td>\n      <td>1247158</td>\n      <td>3831386</td>\n      <td>55.762506</td>\n      <td>0.999955</td>\n      <td>0.055092</td>\n      <td>0.545790</td>\n      <td>0.536477</td>\n      <td>0.361238</td>\n    </tr>\n    <tr>\n      <th>9</th>\n      <td>citeulike</td>\n      <td>5551</td>\n      <td>16980</td>\n      <td>204986</td>\n      <td>36.927761</td>\n      <td>0.997825</td>\n      <td>0.326914</td>\n      <td>0.470634</td>\n      <td>0.369647</td>\n      <td>0.209829</td>\n    </tr>\n    <tr>\n      <th>10</th>\n      <td>pinterest</td>\n      <td>55187</td>\n      <td>9916</td>\n      <td>1463580</td>\n      <td>26.520376</td>\n      <td>0.997325</td>\n      <td>5.565450</td>\n      <td>0.140110</td>\n      <td>0.451105</td>\n      <td>0.189882</td>\n    </tr>\n  </tbody>\n</table>\n</div>"
     },
     "metadata": {},
     "execution_count": 9
    }
   ],
   "source": [
    "stat_df"
   ]
  },
  {
   "cell_type": "markdown",
   "metadata": {},
   "source": [
    "# 20 user interactions"
   ]
  },
  {
   "cell_type": "code",
   "execution_count": 15,
   "metadata": {
    "tags": []
   },
   "outputs": [
    {
     "output_type": "stream",
     "name": "stdout",
     "text": "ml-1m\ninitial user, item: 6040 3706\nafter filter : 6040 3706\nml-10m\ninitial user, item: 69878 10677\nafter filter : 69878 10677\nml-20m\ninitial user, item: 138493 26744\nafter filter : 138493 26744\nml-25m\ninitial user, item: 162541 59047\nafter filter : 162541 59047\namusic\ninitial user, item: 16566 11797\nafter filter : 1074 10116\nepinions\ninitial user, item: 40163 139738\nafter filter : 8693 123330\nyelp2015\ninitial user, item: 25677 25815\nafter filter : 9788 25373\nyelp2018\ninitial user, item: 45919 45538\nafter filter : 17137 45447\ngowalla\ninitial user, item: 107092 1280969\nafter filter : 47752 1183848\nciteulike\ninitial user, item: 5551 16980\nafter filter : 3097 16792\npinterest\ninitial user, item: 55187 9916\nafter filter : 52190 9909\nCPU times: user 3min 10s, sys: 24.4 s, total: 3min 34s\nWall time: 3min 34s\n"
    }
   ],
   "source": [
    "%%time\n",
    "stat_df = pd.DataFrame(\n",
    "    columns=['dataset', '# Users', '# Items', '# Ratings', '# Ratings per user', 'Sparsity', 'Shape', 'Gini User', 'Gini Item', 'Concen.'])\n",
    "for dataset in dataset_list:\n",
    "    print(dataset)\n",
    "    if raw_df_dict[dataset] is None:\n",
    "        raw_df = load_raw_df(dataset, data_to_file, data_to_sep)\n",
    "        raw_df_dict[dataset] = raw_df\n",
    "    else:\n",
    "        raw_df = raw_df_dict[dataset]\n",
    "    \n",
    "    raw_df = k_user_interactions(raw_df, 20)\n",
    "    \n",
    "    num_unique_users = len(pd.unique(raw_df.user))\n",
    "    num_unique_items = len(pd.unique(raw_df.item))\n",
    "    \n",
    "    shape = (num_unique_users, num_unique_items)\n",
    "    rating_matrix = df_to_sparse(raw_df, shape)\n",
    "\n",
    "    stat_dict = get_stat_dict(rating_matrix)\n",
    "    stat_dict['dataset'] = dataset\n",
    "    stat_df = stat_df.append(stat_dict, ignore_index=True)"
   ]
  },
  {
   "cell_type": "code",
   "execution_count": 16,
   "metadata": {},
   "outputs": [
    {
     "output_type": "execute_result",
     "data": {
      "text/plain": "      dataset # Users  # Items # Ratings  # Ratings per user  Sparsity  \\\n0       ml-1m    6040     3706   1000209          165.597517  0.955316   \n1      ml-10m   69878    10677  10000054          143.107330  0.986597   \n2      ml-20m  138493    26744  20000263          144.413530  0.994600   \n3      ml-25m  162541    59047  25000095          153.807932  0.997395   \n4      amusic    1074    10116     37526           34.940410  0.996546   \n5    epinions    8693   123330    482849           55.544576  0.999550   \n6    yelp2015    9788    25373    489820           50.042910  0.998028   \n7    yelp2018   17137    45447    806078           47.037288  0.998965   \n8     gowalla   47752  1183848   3530010           73.923815  0.999938   \n9   citeulike    3097    16792    171391           55.340975  0.996704   \n10  pinterest   52190     9909   1408089           26.980054  0.997277   \n\n       Shape  Gini User  Gini Item   Concen.  \n0   1.629790   0.528624   0.633562  0.282754  \n1   6.544722   0.570700   0.805249  0.516455  \n2   5.178470   0.580701   0.902942  0.714144  \n3   2.752739   0.589469   0.941897  0.844548  \n4   0.106168   0.267339   0.446593  0.229787  \n5   0.070486   0.419244   0.652472  0.498334  \n6   0.385764   0.397219   0.595894  0.334590  \n7   0.377077   0.376848   0.585314  0.338050  \n8   0.040336   0.494570   0.528868  0.355783  \n9   0.184433   0.393914   0.387320  0.213891  \n10  5.266929   0.135933   0.457769  0.192324  ",
      "text/html": "<div>\n<style scoped>\n    .dataframe tbody tr th:only-of-type {\n        vertical-align: middle;\n    }\n\n    .dataframe tbody tr th {\n        vertical-align: top;\n    }\n\n    .dataframe thead th {\n        text-align: right;\n    }\n</style>\n<table border=\"1\" class=\"dataframe\">\n  <thead>\n    <tr style=\"text-align: right;\">\n      <th></th>\n      <th>dataset</th>\n      <th># Users</th>\n      <th># Items</th>\n      <th># Ratings</th>\n      <th># Ratings per user</th>\n      <th>Sparsity</th>\n      <th>Shape</th>\n      <th>Gini User</th>\n      <th>Gini Item</th>\n      <th>Concen.</th>\n    </tr>\n  </thead>\n  <tbody>\n    <tr>\n      <th>0</th>\n      <td>ml-1m</td>\n      <td>6040</td>\n      <td>3706</td>\n      <td>1000209</td>\n      <td>165.597517</td>\n      <td>0.955316</td>\n      <td>1.629790</td>\n      <td>0.528624</td>\n      <td>0.633562</td>\n      <td>0.282754</td>\n    </tr>\n    <tr>\n      <th>1</th>\n      <td>ml-10m</td>\n      <td>69878</td>\n      <td>10677</td>\n      <td>10000054</td>\n      <td>143.107330</td>\n      <td>0.986597</td>\n      <td>6.544722</td>\n      <td>0.570700</td>\n      <td>0.805249</td>\n      <td>0.516455</td>\n    </tr>\n    <tr>\n      <th>2</th>\n      <td>ml-20m</td>\n      <td>138493</td>\n      <td>26744</td>\n      <td>20000263</td>\n      <td>144.413530</td>\n      <td>0.994600</td>\n      <td>5.178470</td>\n      <td>0.580701</td>\n      <td>0.902942</td>\n      <td>0.714144</td>\n    </tr>\n    <tr>\n      <th>3</th>\n      <td>ml-25m</td>\n      <td>162541</td>\n      <td>59047</td>\n      <td>25000095</td>\n      <td>153.807932</td>\n      <td>0.997395</td>\n      <td>2.752739</td>\n      <td>0.589469</td>\n      <td>0.941897</td>\n      <td>0.844548</td>\n    </tr>\n    <tr>\n      <th>4</th>\n      <td>amusic</td>\n      <td>1074</td>\n      <td>10116</td>\n      <td>37526</td>\n      <td>34.940410</td>\n      <td>0.996546</td>\n      <td>0.106168</td>\n      <td>0.267339</td>\n      <td>0.446593</td>\n      <td>0.229787</td>\n    </tr>\n    <tr>\n      <th>5</th>\n      <td>epinions</td>\n      <td>8693</td>\n      <td>123330</td>\n      <td>482849</td>\n      <td>55.544576</td>\n      <td>0.999550</td>\n      <td>0.070486</td>\n      <td>0.419244</td>\n      <td>0.652472</td>\n      <td>0.498334</td>\n    </tr>\n    <tr>\n      <th>6</th>\n      <td>yelp2015</td>\n      <td>9788</td>\n      <td>25373</td>\n      <td>489820</td>\n      <td>50.042910</td>\n      <td>0.998028</td>\n      <td>0.385764</td>\n      <td>0.397219</td>\n      <td>0.595894</td>\n      <td>0.334590</td>\n    </tr>\n    <tr>\n      <th>7</th>\n      <td>yelp2018</td>\n      <td>17137</td>\n      <td>45447</td>\n      <td>806078</td>\n      <td>47.037288</td>\n      <td>0.998965</td>\n      <td>0.377077</td>\n      <td>0.376848</td>\n      <td>0.585314</td>\n      <td>0.338050</td>\n    </tr>\n    <tr>\n      <th>8</th>\n      <td>gowalla</td>\n      <td>47752</td>\n      <td>1183848</td>\n      <td>3530010</td>\n      <td>73.923815</td>\n      <td>0.999938</td>\n      <td>0.040336</td>\n      <td>0.494570</td>\n      <td>0.528868</td>\n      <td>0.355783</td>\n    </tr>\n    <tr>\n      <th>9</th>\n      <td>citeulike</td>\n      <td>3097</td>\n      <td>16792</td>\n      <td>171391</td>\n      <td>55.340975</td>\n      <td>0.996704</td>\n      <td>0.184433</td>\n      <td>0.393914</td>\n      <td>0.387320</td>\n      <td>0.213891</td>\n    </tr>\n    <tr>\n      <th>10</th>\n      <td>pinterest</td>\n      <td>52190</td>\n      <td>9909</td>\n      <td>1408089</td>\n      <td>26.980054</td>\n      <td>0.997277</td>\n      <td>5.266929</td>\n      <td>0.135933</td>\n      <td>0.457769</td>\n      <td>0.192324</td>\n    </tr>\n  </tbody>\n</table>\n</div>"
     },
     "metadata": {},
     "execution_count": 16
    }
   ],
   "source": [
    "stat_df"
   ]
  },
  {
   "cell_type": "markdown",
   "metadata": {},
   "source": [
    "# 10 core"
   ]
  },
  {
   "cell_type": "code",
   "execution_count": 12,
   "metadata": {
    "tags": []
   },
   "outputs": [
    {
     "output_type": "stream",
     "name": "stdout",
     "text": "ml-1m\ninitial user, item: 6040 3706\ncycle 1 U 6040 -> 6040\ncycle 1 I 3706 -> 3260\nFalse True\ncycle 2 U 6040 -> 6040\ncycle 2 I 3260 -> 3260\nFalse False\nml-10m\ninitial user, item: 69878 10677\ncycle 1 U 69878 -> 69878\ncycle 1 I 10677 -> 9708\nFalse True\ncycle 2 U 69878 -> 69878\ncycle 2 I 9708 -> 9708\nFalse False\nml-20m\ninitial user, item: 138493 26744\ncycle 1 U 138493 -> 138493\ncycle 1 I 26744 -> 15451\nFalse True\ncycle 2 U 138493 -> 138493\ncycle 2 I 15451 -> 15451\nFalse False\nml-25m\ninitial user, item: 162541 59047\ncycle 1 U 162541 -> 162541\ncycle 1 I 59047 -> 24330\nFalse True\ncycle 2 U 162541 -> 162539\ncycle 2 I 24330 -> 24330\nTrue False\ncycle 3 U 162539 -> 162539\ncycle 3 I 24330 -> 24330\nFalse False\namusic\ninitial user, item: 16566 11797\ncycle 1 U 16566 -> 3951\ncycle 1 I 11797 -> 1935\nTrue True\ncycle 2 U 3951 -> 1190\ncycle 2 I 1935 -> 750\nTrue True\ncycle 3 U 1190 -> 554\ncycle 3 I 750 -> 365\nTrue True\ncycle 4 U 554 -> 309\ncycle 4 I 365 -> 225\nTrue True\ncycle 5 U 309 -> 186\ncycle 5 I 225 -> 134\nTrue True\ncycle 6 U 186 -> 111\ncycle 6 I 134 -> 77\nTrue True\ncycle 7 U 111 -> 51\ncycle 7 I 77 -> 27\nTrue True\ncycle 8 U 51 -> 10\ncycle 8 I 27 -> 0\nTrue True\ncycle 9 U 10 -> 0\ncycle 9 I 0 -> 0\nTrue False\ncycle 10 U 0 -> 0\ncycle 10 I 0 -> 0\nFalse False\nskip amusic\nepinions\ninitial user, item: 40163 139738\ncycle 1 U 40163 -> 15786\ncycle 1 I 139738 -> 10192\nTrue True\ncycle 2 U 15786 -> 11095\ncycle 2 I 10192 -> 9069\nTrue True\ncycle 3 U 11095 -> 10751\ncycle 3 I 9069 -> 8962\nTrue True\ncycle 4 U 10751 -> 10715\ncycle 4 I 8962 -> 8949\nTrue True\ncycle 5 U 10715 -> 10707\ncycle 5 I 8949 -> 8946\nTrue True\ncycle 6 U 10707 -> 10706\ncycle 6 I 8946 -> 8945\nTrue True\ncycle 7 U 10706 -> 10706\ncycle 7 I 8945 -> 8945\nFalse False\nyelp2015\ninitial user, item: 25677 25815\ncycle 1 U 25677 -> 24930\ncycle 1 I 25815 -> 15530\nTrue True\ncycle 2 U 24930 -> 22372\ncycle 2 I 15530 -> 14951\nTrue True\ncycle 3 U 22372 -> 22125\ncycle 3 I 14951 -> 14887\nTrue True\ncycle 4 U 22125 -> 22091\ncycle 4 I 14887 -> 14876\nTrue True\ncycle 5 U 22091 -> 22090\ncycle 5 I 14876 -> 14875\nTrue True\ncycle 6 U 22090 -> 22089\ncycle 6 I 14875 -> 14873\nTrue True\ncycle 7 U 22089 -> 22087\ncycle 7 I 14873 -> 14873\nTrue False\ncycle 8 U 22087 -> 22087\ncycle 8 I 14873 -> 14873\nFalse False\nyelp2018\ninitial user, item: 45919 45538\ncycle 1 U 45919 -> 45842\ncycle 1 I 45538 -> 26669\nTrue True\ncycle 2 U 45842 -> 39856\ncycle 2 I 26669 -> 25265\nTrue True\ncycle 3 U 39856 -> 39161\ncycle 3 I 25265 -> 25064\nTrue True\ncycle 4 U 39161 -> 39068\ncycle 4 I 25064 -> 25038\nTrue True\ncycle 5 U 39068 -> 39056\ncycle 5 I 25038 -> 25034\nTrue True\ncycle 6 U 39056 -> 39055\ncycle 6 I 25034 -> 25033\nTrue True\ncycle 7 U 39055 -> 39055\ncycle 7 I 25033 -> 25033\nFalse False\ngowalla\ninitial user, item: 107092 1280969\ncycle 1 U 107092 -> 68709\ncycle 1 I 1280969 -> 54691\nTrue True\ncycle 2 U 68709 -> 34158\ncycle 2 I 54691 -> 44021\nTrue True\ncycle 3 U 34158 -> 31147\ncycle 3 I 44021 -> 41999\nTrue True\ncycle 4 U 31147 -> 30347\ncycle 4 I 41999 -> 41373\nTrue True\ncycle 5 U 30347 -> 30038\ncycle 5 I 41373 -> 41137\nTrue True\ncycle 6 U 30038 -> 29924\ncycle 6 I 41137 -> 41052\nTrue True\ncycle 7 U 29924 -> 29887\ncycle 7 I 41052 -> 41015\nTrue True\ncycle 8 U 29887 -> 29870\ncycle 8 I 41015 -> 40996\nTrue True\ncycle 9 U 29870 -> 29860\ncycle 9 I 40996 -> 40989\nTrue True\ncycle 10 U 29860 -> 29858\ncycle 10 I 40989 -> 40988\nTrue True\ncycle 11 U 29858 -> 29858\ncycle 11 I 40988 -> 40988\nFalse False\nciteulike\ninitial user, item: 5551 16980\ncycle 1 U 5551 -> 5551\ncycle 1 I 16980 -> 7849\nFalse True\ncycle 2 U 5551 -> 4123\ncycle 2 I 7849 -> 6862\nTrue True\ncycle 3 U 4123 -> 3829\ncycle 3 I 6862 -> 6612\nTrue True\ncycle 4 U 3829 -> 3756\ncycle 4 I 6612 -> 6524\nTrue True\ncycle 5 U 3756 -> 3726\ncycle 5 I 6524 -> 6486\nTrue True\ncycle 6 U 3726 -> 3715\ncycle 6 I 6486 -> 6472\nTrue True\ncycle 7 U 3715 -> 3710\ncycle 7 I 6472 -> 6468\nTrue True\ncycle 8 U 3710 -> 3710\ncycle 8 I 6468 -> 6468\nFalse False\npinterest\ninitial user, item: 55187 9916\ncycle 1 U 55187 -> 55187\ncycle 1 I 9916 -> 9335\nFalse True\ncycle 2 U 55187 -> 55178\ncycle 2 I 9335 -> 9330\nTrue True\ncycle 3 U 55178 -> 55171\ncycle 3 I 9330 -> 9321\nTrue True\ncycle 4 U 55171 -> 55165\ncycle 4 I 9321 -> 9316\nTrue True\ncycle 5 U 55165 -> 55164\ncycle 5 I 9316 -> 9316\nTrue False\ncycle 6 U 55164 -> 55164\ncycle 6 I 9316 -> 9316\nFalse False\nCPU times: user 4min 29s, sys: 38 s, total: 5min 7s\nWall time: 5min 7s\n"
    }
   ],
   "source": [
    "%%time\n",
    "stat_df = pd.DataFrame(\n",
    "    columns=['dataset', '# Users', '# Items', '# Ratings', '# Ratings per user', 'Sparsity', 'Shape', 'Gini User', 'Gini Item', 'Concen.'])\n",
    "for dataset in dataset_list:\n",
    "    print(dataset)\n",
    "    if raw_df_dict[dataset] is None:\n",
    "        raw_df = load_raw_df(dataset, data_to_file, data_to_sep)\n",
    "        raw_df_dict[dataset] = raw_df\n",
    "    else:\n",
    "        raw_df = raw_df_dict[dataset]\n",
    "    \n",
    "    raw_df = k_core(raw_df, 10)\n",
    "    \n",
    "    num_unique_users = len(pd.unique(raw_df.user))\n",
    "    num_unique_items = len(pd.unique(raw_df.item))\n",
    "    if num_unique_users == 0 or num_unique_items == 0:\n",
    "        print('skip', dataset)\n",
    "        continue\n",
    "    \n",
    "    shape = (num_unique_users, num_unique_items)\n",
    "    rating_matrix = df_to_sparse(raw_df, shape)\n",
    "\n",
    "    stat_dict = get_stat_dict(rating_matrix)\n",
    "    stat_dict['dataset'] = dataset\n",
    "    stat_df = stat_df.append(stat_dict, ignore_index=True)"
   ]
  },
  {
   "cell_type": "code",
   "execution_count": 13,
   "metadata": {},
   "outputs": [
    {
     "output_type": "execute_result",
     "data": {
      "text/plain": "     dataset # Users # Items # Ratings  # Ratings per user  Sparsity  \\\n0      ml-1m    6040    3260    998539          165.321026  0.949288   \n1     ml-10m   69878    9708   9995471          143.041744  0.985266   \n2     ml-20m  138493   15451  19964833          144.157705  0.990670   \n3     ml-25m  162539   24330  24890566          153.135961  0.993706   \n4   epinions   10706    8945    300303           28.049972  0.996864   \n5   yelp2015   22087   14873    602517           27.279259  0.998166   \n6   yelp2018   39055   25033    988768           25.317322  0.998989   \n7    gowalla   29858   40988   1027464           34.411682  0.999160   \n8  citeulike    3710    6468    120324           32.432345  0.994986   \n9  pinterest   55164    9316   1460487           26.475364  0.997158   \n\n      Shape  Gini User  Gini Item   Concen.  \n0  1.852761   0.528514   0.586218  0.259408  \n1  7.197981   0.570571   0.786661  0.494494  \n2  8.963368   0.580155   0.836033  0.578370  \n3  6.680600   0.588092   0.871051  0.655785  \n4  1.196870   0.403722   0.494997  0.305511  \n5  1.485040   0.441275   0.512086  0.293510  \n6  1.560141   0.416771   0.506528  0.288847  \n7  0.728457   0.466591   0.434611  0.291539  \n8  0.573593   0.438803   0.305217  0.181751  \n9  5.921426   0.141055   0.418826  0.181937  ",
      "text/html": "<div>\n<style scoped>\n    .dataframe tbody tr th:only-of-type {\n        vertical-align: middle;\n    }\n\n    .dataframe tbody tr th {\n        vertical-align: top;\n    }\n\n    .dataframe thead th {\n        text-align: right;\n    }\n</style>\n<table border=\"1\" class=\"dataframe\">\n  <thead>\n    <tr style=\"text-align: right;\">\n      <th></th>\n      <th>dataset</th>\n      <th># Users</th>\n      <th># Items</th>\n      <th># Ratings</th>\n      <th># Ratings per user</th>\n      <th>Sparsity</th>\n      <th>Shape</th>\n      <th>Gini User</th>\n      <th>Gini Item</th>\n      <th>Concen.</th>\n    </tr>\n  </thead>\n  <tbody>\n    <tr>\n      <th>0</th>\n      <td>ml-1m</td>\n      <td>6040</td>\n      <td>3260</td>\n      <td>998539</td>\n      <td>165.321026</td>\n      <td>0.949288</td>\n      <td>1.852761</td>\n      <td>0.528514</td>\n      <td>0.586218</td>\n      <td>0.259408</td>\n    </tr>\n    <tr>\n      <th>1</th>\n      <td>ml-10m</td>\n      <td>69878</td>\n      <td>9708</td>\n      <td>9995471</td>\n      <td>143.041744</td>\n      <td>0.985266</td>\n      <td>7.197981</td>\n      <td>0.570571</td>\n      <td>0.786661</td>\n      <td>0.494494</td>\n    </tr>\n    <tr>\n      <th>2</th>\n      <td>ml-20m</td>\n      <td>138493</td>\n      <td>15451</td>\n      <td>19964833</td>\n      <td>144.157705</td>\n      <td>0.990670</td>\n      <td>8.963368</td>\n      <td>0.580155</td>\n      <td>0.836033</td>\n      <td>0.578370</td>\n    </tr>\n    <tr>\n      <th>3</th>\n      <td>ml-25m</td>\n      <td>162539</td>\n      <td>24330</td>\n      <td>24890566</td>\n      <td>153.135961</td>\n      <td>0.993706</td>\n      <td>6.680600</td>\n      <td>0.588092</td>\n      <td>0.871051</td>\n      <td>0.655785</td>\n    </tr>\n    <tr>\n      <th>4</th>\n      <td>epinions</td>\n      <td>10706</td>\n      <td>8945</td>\n      <td>300303</td>\n      <td>28.049972</td>\n      <td>0.996864</td>\n      <td>1.196870</td>\n      <td>0.403722</td>\n      <td>0.494997</td>\n      <td>0.305511</td>\n    </tr>\n    <tr>\n      <th>5</th>\n      <td>yelp2015</td>\n      <td>22087</td>\n      <td>14873</td>\n      <td>602517</td>\n      <td>27.279259</td>\n      <td>0.998166</td>\n      <td>1.485040</td>\n      <td>0.441275</td>\n      <td>0.512086</td>\n      <td>0.293510</td>\n    </tr>\n    <tr>\n      <th>6</th>\n      <td>yelp2018</td>\n      <td>39055</td>\n      <td>25033</td>\n      <td>988768</td>\n      <td>25.317322</td>\n      <td>0.998989</td>\n      <td>1.560141</td>\n      <td>0.416771</td>\n      <td>0.506528</td>\n      <td>0.288847</td>\n    </tr>\n    <tr>\n      <th>7</th>\n      <td>gowalla</td>\n      <td>29858</td>\n      <td>40988</td>\n      <td>1027464</td>\n      <td>34.411682</td>\n      <td>0.999160</td>\n      <td>0.728457</td>\n      <td>0.466591</td>\n      <td>0.434611</td>\n      <td>0.291539</td>\n    </tr>\n    <tr>\n      <th>8</th>\n      <td>citeulike</td>\n      <td>3710</td>\n      <td>6468</td>\n      <td>120324</td>\n      <td>32.432345</td>\n      <td>0.994986</td>\n      <td>0.573593</td>\n      <td>0.438803</td>\n      <td>0.305217</td>\n      <td>0.181751</td>\n    </tr>\n    <tr>\n      <th>9</th>\n      <td>pinterest</td>\n      <td>55164</td>\n      <td>9316</td>\n      <td>1460487</td>\n      <td>26.475364</td>\n      <td>0.997158</td>\n      <td>5.921426</td>\n      <td>0.141055</td>\n      <td>0.418826</td>\n      <td>0.181937</td>\n    </tr>\n  </tbody>\n</table>\n</div>"
     },
     "metadata": {},
     "execution_count": 13
    }
   ],
   "source": [
    "stat_df"
   ]
  },
  {
   "cell_type": "code",
   "execution_count": null,
   "metadata": {},
   "outputs": [],
   "source": []
  }
 ]
}